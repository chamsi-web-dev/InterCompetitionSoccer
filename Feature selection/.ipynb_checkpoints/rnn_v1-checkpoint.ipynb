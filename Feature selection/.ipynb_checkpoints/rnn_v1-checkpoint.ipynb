{
 "cells": [
  {
   "cell_type": "code",
   "execution_count": 20,
   "metadata": {},
   "outputs": [
    {
     "data": {
      "image/png": "[encoded data removed]",
      "text/plain": [
       "<matplotlib.figure.Figure at 0x1b690a2eb8>"
      ]
     },
     "metadata": {},
     "output_type": "display_data"
    }
   ],
   "source": [
    "import numpy as np\n",
    "import pandas as pd\n",
    "import matplotlib.pyplot as plt\n",
    "# import preprocessing from sklearn\n",
    "from sklearn import preprocessing\n",
    "\n",
    "# load dataset\n",
    "pathDataset = \"../Dataset/results.xlsx\"\n",
    "original_dataset  = pd.read_excel(pathDataset)\n",
    "\n",
    "#Format date column to date time\n",
    "#dataset['date'] = pd.to_datetime(X.date)\n",
    "original_dataset['date'] =  pd.to_datetime(original_dataset['date'], format='%Y/%m/%d')\n",
    "original_dataset['date'] =  pd.to_datetime(original_dataset['date'], format='%Y%-m-%d')\n",
    "#original_dataset.dtypes\n",
    "#original_dataset.describe()\n",
    "\n",
    "#Add target column to our dataset \n",
    "#Create a new function:\n",
    "def add_target(home, away):\n",
    "    data = \"equal\"\n",
    "    if home > away : \n",
    "        data = \"Home winner\"\n",
    "    elif away > home : \n",
    "        data = \"away winner\"\n",
    "    return data\n",
    "original_dataset['target'] = original_dataset.apply(lambda x: add_target(x['home_score'], x['away_score']), axis=1)\n",
    "\n",
    "# Split new dataset in Train and Test sub-sets\n",
    "tarining_dataset = original_dataset[0:20948]\n",
    "test_dataset = original_dataset[20949:38685]\n",
    "\n",
    "\n",
    "# Training sub-dataset\n",
    "X_train = tarining_dataset.iloc[:, 0:9]\n",
    "Y_train = tarining_dataset.iloc[:, 8]\n",
    "\n",
    "# Test sub-dataset\n",
    "X_test = test_dataset.iloc[:, 0:9]\n",
    "Y_test = test_dataset.iloc[:, 8]\n",
    "\n",
    "#Display 3 first rows\n",
    "original_dataset.head(5)\n",
    "\n",
    "#Data visualization\n",
    "import matplotlib.pyplot as plt\n",
    "import pandas\n",
    "from pandas.plotting import scatter_matrix\n",
    "scatter_matrix(original_dataset)\n",
    "plt.show()"
   ]
  },
  {
   "cell_type": "code",
   "execution_count": 4,
   "metadata": {},
   "outputs": [],
   "source": [
    "# limit to categorical data using df.select_dtypes()\n",
    "#columns_categorical_subset = original_dataset.select_dtypes(include=[object])\n",
    "#columns_categorical_subset.head(3)"
   ]
  },
  {
   "cell_type": "code",
   "execution_count": 5,
   "metadata": {},
   "outputs": [],
   "source": [
    "# check original shape\n",
    "#columns_categorical_subset.shape\n",
    "# Y_test3 = to_categorical(y_test3, num_classes)"
   ]
  },
  {
   "cell_type": "code",
   "execution_count": 6,
   "metadata": {
    "collapsed": true
   },
   "outputs": [],
   "source": [
    "# view columns using df.columns\n",
    "#columns_categorical_subset"
   ]
  },
  {
   "cell_type": "code",
   "execution_count": 7,
   "metadata": {},
   "outputs": [
    {
     "data": {
      "text/html": [
       "<div>\n",
       "<style>\n",
       "    .dataframe thead tr:only-child th {\n",
       "        text-align: right;\n",
       "    }\n",
       "\n",
       "    .dataframe thead th {\n",
       "        text-align: left;\n",
       "    }\n",
       "\n",
       "    .dataframe tbody tr th {\n",
       "        vertical-align: top;\n",
       "    }\n",
       "</style>\n",
       "<table border=\"1\" class=\"dataframe\">\n",
       "  <thead>\n",
       "    <tr style=\"text-align: right;\">\n",
       "      <th></th>\n",
       "      <th>date</th>\n",
       "      <th>home_team</th>\n",
       "      <th>away_team</th>\n",
       "      <th>home_score</th>\n",
       "      <th>away_score</th>\n",
       "      <th>tournament</th>\n",
       "      <th>city</th>\n",
       "      <th>country</th>\n",
       "      <th>target</th>\n",
       "    </tr>\n",
       "  </thead>\n",
       "  <tbody>\n",
       "    <tr>\n",
       "      <th>0</th>\n",
       "      <td>0</td>\n",
       "      <td>184</td>\n",
       "      <td>64</td>\n",
       "      <td>0</td>\n",
       "      <td>0</td>\n",
       "      <td>47</td>\n",
       "      <td>559</td>\n",
       "      <td>201</td>\n",
       "      <td>2</td>\n",
       "    </tr>\n",
       "    <tr>\n",
       "      <th>1</th>\n",
       "      <td>0</td>\n",
       "      <td>65</td>\n",
       "      <td>180</td>\n",
       "      <td>4</td>\n",
       "      <td>2</td>\n",
       "      <td>47</td>\n",
       "      <td>890</td>\n",
       "      <td>68</td>\n",
       "      <td>0</td>\n",
       "    </tr>\n",
       "    <tr>\n",
       "      <th>2</th>\n",
       "      <td>1</td>\n",
       "      <td>184</td>\n",
       "      <td>64</td>\n",
       "      <td>2</td>\n",
       "      <td>1</td>\n",
       "      <td>47</td>\n",
       "      <td>559</td>\n",
       "      <td>201</td>\n",
       "      <td>0</td>\n",
       "    </tr>\n",
       "  </tbody>\n",
       "</table>\n",
       "</div>"
      ],
      "text/plain": [
       "   date  home_team  away_team  home_score  away_score  tournament  city  \\\n",
       "0     0        184         64           0           0          47   559   \n",
       "1     0         65        180           4           2          47   890   \n",
       "2     1        184         64           2           1          47   559   \n",
       "\n",
       "   country  target  \n",
       "0      201       2  \n",
       "1       68       0  \n",
       "2      201       0  "
      ]
     },
     "execution_count": 7,
     "metadata": {},
     "output_type": "execute_result"
    }
   ],
   "source": [
    "# TODO: create a LabelEncoder object and fit it to each feature in X\n",
    "# 1. INSTANTIATE\n",
    "# encode labels with value between 0 and n_classes-1.\n",
    "le = preprocessing.LabelEncoder()\n",
    "#le\n",
    "\n",
    "# 2/3. FIT AND TRANSFORM\n",
    "# use df.apply() to apply le.fit_transform to all columns\n",
    "final_dataset = original_dataset.apply(le.fit_transform)\n",
    "final_dataset.head(3)"
   ]
  },
  {
   "cell_type": "code",
   "execution_count": 8,
   "metadata": {},
   "outputs": [
    {
     "data": {
      "text/plain": [
       "array([[ 1.,  0.,  0., ...,  0.,  0.,  1.],\n",
       "       [ 1.,  0.,  0., ...,  1.,  0.,  0.],\n",
       "       [ 0.,  1.,  0., ...,  1.,  0.,  0.],\n",
       "       ..., \n",
       "       [ 0.,  0.,  0., ...,  0.,  0.,  1.],\n",
       "       [ 0.,  0.,  0., ...,  1.,  0.,  0.],\n",
       "       [ 0.,  0.,  0., ...,  1.,  0.,  0.]])"
      ]
     },
     "execution_count": 8,
     "metadata": {},
     "output_type": "execute_result"
    }
   ],
   "source": [
    "# TODO: create a OneHotEncoder object, and fit it to all of X\n",
    "\n",
    "# 1. INSTANTIATE\n",
    "enc = preprocessing.OneHotEncoder()\n",
    "\n",
    "# 2. FIT\n",
    "enc.fit(final_dataset)\n",
    "\n",
    "# 3. Transform\n",
    "onehotlabels = enc.transform(final_dataset).toarray()\n",
    "onehotlabels\n",
    "# Explication: \n",
    "# as you can see, you've the same number of rows 891\n",
    "# but now you've so many more columns due to how we changed all the categorical data into numerical data\n",
    "\n",
    "#from sklearn.preprocessing import StandardScaler\n",
    "# Import `train_test_split` from `sklearn.model_selection`\n",
    "#from sklearn.model_selection import train_test_split\n",
    "\n",
    "# Specify the data \n",
    "#X=original_dataset.iloc[:,0:8]\n",
    "\n",
    "# Specify the target labels and flatten the array\n",
    "#y= np.ravel(original_dataset.target)\n",
    "\n",
    "# Split the data up in train and test sets\n",
    "#X_train, X_test, Y_train, Y_test = train_test_split(X, y, test_size=0.30, random_state=42)\n",
    "# Define the scaler \n",
    "#scaler = StandardScaler().fit(X_train)\n",
    "\n",
    "# Scale the train set\n",
    "#X_train = scaler.transform(X_train)\n",
    "\n",
    "# Scale the test set\n",
    "#X_test = scaler.transform(X_test)\n",
    "\n",
    "#print(X_train.shape)\n",
    "#print(X_test.shape)\n"
   ]
  },
  {
   "cell_type": "code",
   "execution_count": 9,
   "metadata": {},
   "outputs": [
    {
     "data": {
      "text/plain": [
       "numpy.ndarray"
      ]
     },
     "execution_count": 9,
     "metadata": {},
     "output_type": "execute_result"
    }
   ],
   "source": [
    "type(onehotlabels)"
   ]
  },
  {
   "cell_type": "code",
   "execution_count": 10,
   "metadata": {
    "collapsed": true
   },
   "outputs": [],
   "source": [
    "#final_dataset_values = onehotlabels\n",
    "#X = final_dataset_values[:,0:7]\n",
    "#Y = final_dataset_values[:,8]"
   ]
  },
  {
   "cell_type": "code",
   "execution_count": 11,
   "metadata": {},
   "outputs": [
    {
     "name": "stdout",
     "output_type": "stream",
     "text": [
      "[ 1.  0.  0.  0.  0.  0.  0.  0.  0.]\n",
      "###################################\n",
      "[ 0.  0.  0.  0.  0.  0.  0.  0.]\n"
     ]
    },
    {
     "data": {
      "text/plain": [
       "(38685, 17432)"
      ]
     },
     "execution_count": 11,
     "metadata": {},
     "output_type": "execute_result"
    }
   ],
   "source": [
    "# Split new dataset in Train and Test sub-sets\n",
    "tarining_dataset = onehotlabels[0:20948]\n",
    "test_dataset = onehotlabels[20949:38685]\n",
    "\n",
    "# Training sub-dataset\n",
    "X_train = tarining_dataset[:, 0:9]\n",
    "Y_train = tarining_dataset[:, 8]\n",
    "print(X_train[1])\n",
    "print(\"###################################\")\n",
    "\n",
    "# Test sub-dataset\n",
    "X_test = test_dataset[:, 0:8]\n",
    "Y_test = test_dataset[:, 8]\n",
    "print(X_test[1])\n",
    "onehotlabels.shape"
   ]
  },
  {
   "cell_type": "markdown",
   "metadata": {
    "collapsed": true
   },
   "source": [
    "#RNN"
   ]
  },
  {
   "cell_type": "code",
   "execution_count": 12,
   "metadata": {},
   "outputs": [
    {
     "name": "stderr",
     "output_type": "stream",
     "text": [
      "Using TensorFlow backend.\n"
     ]
    },
    {
     "name": "stdout",
     "output_type": "stream",
     "text": [
      "[[ 1.  0.  0.  0.  0.  0.  0.  0.  0.]\n",
      " [ 1.  0.  0.  0.  0.  0.  0.  0.  0.]\n",
      " [ 0.  1.  0.  0.  0.  0.  0.  0.  0.]]\n",
      "##########\n",
      "[[ 0.  0.  0.  0.  0.  0.  0.  0.]\n",
      " [ 0.  0.  0.  0.  0.  0.  0.  0.]\n",
      " [ 0.  0.  0.  0.  0.  0.  0.  0.]]\n",
      "Train .....\n",
      "Train on 20948 samples, validate on 17736 samples\n",
      "Epoch 1/3\n",
      "20948/20948 [==============================] - 48s 2ms/step - loss: 0.0310 - acc: 1.0000 - val_loss: 1.4652e-07 - val_acc: 1.0000\n",
      "Epoch 2/3\n",
      "20948/20948 [==============================] - 46s 2ms/step - loss: 7.6953e-04 - acc: 1.0000 - val_loss: 1.4651e-07 - val_acc: 1.0000\n",
      "Epoch 3/3\n",
      "20948/20948 [==============================] - 50s 2ms/step - loss: 7.6953e-04 - acc: 1.0000 - val_loss: 1.4649e-07 - val_acc: 1.0000\n",
      "Evaluate .....\n",
      "17736/17736 [==============================] - 7s 375us/step\n",
      "Test score: [1.4649147317413735e-07, 1.0]\n",
      "Accuracy: 100.00%\n"
     ]
    }
   ],
   "source": [
    "from keras.layers.embeddings import Embedding\n",
    "from keras.layers.recurrent import LSTM\n",
    "from keras.models import Sequential\n",
    "from keras.layers import Dense\n",
    "print(X_train[0:3])\n",
    "print(\"##########\")\n",
    "print(X_test[0:3])\n",
    "model = Sequential()\n",
    "model.add(Embedding(30000,128))\n",
    "model.add(Dense(1,activation='relu'))\n",
    "model.add(LSTM(128,dropout=0.2,recurrent_dropout=0.2))\n",
    "model.add(Dense(1,activation='sigmoid'))\n",
    "model.compile(loss='binary_crossentropy', optimizer='adam', metrics=['accuracy'])\n",
    "model.summary\n",
    "print(\"Train .....\")\n",
    "model.fit(X_train, Y_train, batch_size=64, epochs=3, verbose=1, validation_data=(X_test, Y_test))\n",
    "\n",
    "print(\"Evaluate .....\")\n",
    "score = model.evaluate(X_test, Y_test, batch_size=35)\n",
    "\n",
    "print('Test score:', score)\n",
    "print(\"Accuracy: %.2f%%\" % (score[1]*100))"
   ]
  },
  {
   "cell_type": "code",
   "execution_count": 13,
   "metadata": {},
   "outputs": [
    {
     "name": "stdout",
     "output_type": "stream",
     "text": [
      "[[ 0.45789894]\n",
      " [ 0.45789894]\n",
      " [ 0.45789894]\n",
      " ..., \n",
      " [ 0.45789894]\n",
      " [ 0.45789894]\n",
      " [ 0.45789894]]\n",
      "########################\n",
      "[[0]\n",
      " [0]\n",
      " [0]\n",
      " ..., \n",
      " [0]\n",
      " [0]\n",
      " [0]]\n",
      "########################\n"
     ]
    },
    {
     "ename": "AssertionError",
     "evalue": "",
     "output_type": "error",
     "traceback": [
      "\u001b[0;31m---------------------------------------------------------------------------\u001b[0m",
      "\u001b[0;31mAssertionError\u001b[0m                            Traceback (most recent call last)",
      "\u001b[0;32m<ipython-input-13-37556706987c>\u001b[0m in \u001b[0;36m<module>\u001b[0;34m()\u001b[0m\n\u001b[1;32m     34\u001b[0m \u001b[0mprint\u001b[0m\u001b[0;34m(\u001b[0m\u001b[0;34m\"########################\"\u001b[0m\u001b[0;34m)\u001b[0m\u001b[0;34m\u001b[0m\u001b[0m\n\u001b[1;32m     35\u001b[0m \u001b[0;31m#print(Y_test)\u001b[0m\u001b[0;34m\u001b[0m\u001b[0;34m\u001b[0m\u001b[0m\n\u001b[0;32m---> 36\u001b[0;31m \u001b[0mconfusion\u001b[0m \u001b[0;34m=\u001b[0m \u001b[0mget_confusion_matrix_one_hot\u001b[0m\u001b[0;34m(\u001b[0m\u001b[0mpredict\u001b[0m\u001b[0;34m,\u001b[0m \u001b[0mY_test\u001b[0m\u001b[0;34m)\u001b[0m\u001b[0;34m\u001b[0m\u001b[0m\n\u001b[0m\u001b[1;32m     37\u001b[0m \u001b[0;31m#confusion_matrix(confusion)\u001b[0m\u001b[0;34m\u001b[0m\u001b[0;34m\u001b[0m\u001b[0m\n\u001b[1;32m     38\u001b[0m \u001b[0;31m#precision_score(Y_test, predict)\u001b[0m\u001b[0;34m\u001b[0m\u001b[0;34m\u001b[0m\u001b[0m\n",
      "\u001b[0;32m<ipython-input-13-37556706987c>\u001b[0m in \u001b[0;36mget_confusion_matrix_one_hot\u001b[0;34m(model_results, truth)\u001b[0m\n\u001b[1;32m     12\u001b[0m         \u001b[0mwhere\u001b[0m \u001b[0mtruth\u001b[0m \u001b[0;32mis\u001b[0m \u001b[0;36m0\u001b[0m\u001b[0;34m/\u001b[0m\u001b[0;36m1\u001b[0m\u001b[0;34m,\u001b[0m \u001b[0;32mand\u001b[0m \u001b[0mmax\u001b[0m \u001b[0malong\u001b[0m \u001b[0meach\u001b[0m \u001b[0mrow\u001b[0m \u001b[0mof\u001b[0m \u001b[0mmodel_results\u001b[0m \u001b[0;32mis\u001b[0m \u001b[0mmodel\u001b[0m \u001b[0mresult\u001b[0m\u001b[0;34m\u001b[0m\u001b[0m\n\u001b[1;32m     13\u001b[0m         '''\n\u001b[0;32m---> 14\u001b[0;31m         \u001b[0;32massert\u001b[0m \u001b[0mmodel_results\u001b[0m\u001b[0;34m.\u001b[0m\u001b[0mshape\u001b[0m \u001b[0;34m==\u001b[0m \u001b[0mtruth\u001b[0m\u001b[0;34m.\u001b[0m\u001b[0mshape\u001b[0m\u001b[0;34m\u001b[0m\u001b[0m\n\u001b[0m\u001b[1;32m     15\u001b[0m         \u001b[0mnum_outputs\u001b[0m \u001b[0;34m=\u001b[0m \u001b[0mtruth\u001b[0m\u001b[0;34m.\u001b[0m\u001b[0mshape\u001b[0m\u001b[0;34m[\u001b[0m\u001b[0;36m1\u001b[0m\u001b[0;34m]\u001b[0m\u001b[0;34m\u001b[0m\u001b[0m\n\u001b[1;32m     16\u001b[0m         \u001b[0mconfusion_matrix\u001b[0m \u001b[0;34m=\u001b[0m \u001b[0mnp\u001b[0m\u001b[0;34m.\u001b[0m\u001b[0mzeros\u001b[0m\u001b[0;34m(\u001b[0m\u001b[0;34m(\u001b[0m\u001b[0mnum_outputs\u001b[0m\u001b[0;34m,\u001b[0m \u001b[0mnum_outputs\u001b[0m\u001b[0;34m)\u001b[0m\u001b[0;34m,\u001b[0m \u001b[0mdtype\u001b[0m\u001b[0;34m=\u001b[0m\u001b[0mnp\u001b[0m\u001b[0;34m.\u001b[0m\u001b[0mint32\u001b[0m\u001b[0;34m)\u001b[0m\u001b[0;34m\u001b[0m\u001b[0m\n",
      "\u001b[0;31mAssertionError\u001b[0m: "
     ]
    }
   ],
   "source": [
    "from sklearn.metrics import confusion_matrix\n",
    "from sklearn import metrics\n",
    "from sklearn.metrics import confusion_matrix, precision_score, recall_score, f1_score, cohen_kappa_score\n",
    "\n",
    "#Predict class\n",
    "predict = model.predict(Y_test)\n",
    "classes = model.predict_classes(Y_test)\n",
    "\n",
    "# Show confusion matrix\n",
    "def get_confusion_matrix_one_hot(model_results, truth):\n",
    "        '''model_results and truth should be for one-hot format, i.e, have >= 2 columns,\n",
    "        where truth is 0/1, and max along each row of model_results is model result\n",
    "        '''\n",
    "        assert model_results.shape == truth.shape\n",
    "        num_outputs = truth.shape[1]\n",
    "        confusion_matrix = np.zeros((num_outputs, num_outputs), dtype=np.int32)\n",
    "        predictions = np.argmax(model_results,axis=1)\n",
    "        assert len(predictions)==truth.shape[0]\n",
    "\n",
    "        for actual_class in range(num_outputs):\n",
    "            idx_examples_this_class = truth[:,actual_class]==1\n",
    "            prediction_for_this_class = predictions[idx_examples_this_class]\n",
    "            for predicted_class in range(num_outputs):\n",
    "                count = np.sum(prediction_for_this_class==predicted_class)\n",
    "                confusion_matrix[actual_class, predicted_class] = count\n",
    "        assert np.sum(confusion_matrix)==len(truth)\n",
    "        assert np.sum(confusion_matrix)==np.sum(truth)\n",
    "        \n",
    "        return confusion_matrix\n",
    "    \n",
    "print(predict)\n",
    "print(\"########################\")\n",
    "print(classes)\n",
    "print(\"########################\")\n",
    "#print(Y_test)\n",
    "#confusion = get_confusion_matrix_one_hot(predict, Y_test)\n",
    "#confusion_matrix(confusion)\n",
    "#precision_score(Y_test, predict)\n",
    "\n",
    "\n",
    "#print(confusion)\n",
    "#print(final_dataset_values[3,])\n",
    "#print(original_dataset[3,])\n",
    "#print(\"########################\")\n"
   ]
  },
  {
   "cell_type": "code",
   "execution_count": null,
   "metadata": {
    "collapsed": true
   },
   "outputs": [],
   "source": [
    "from keras.models import load_model\n",
    "model.save('rnn_v1.h5')\n",
    "rnn_v1 = load_model('rnn_v1.h5')"
   ]
  }
 ],
 "metadata": {
  "kernelspec": {
   "display_name": "Python [conda env:anaconda3]",
   "language": "python",
   "name": "conda-env-anaconda3-py"
  },
  "language_info": {
   "codemirror_mode": {
    "name": "ipython",
    "version": 3
   },
   "file_extension": ".py",
   "mimetype": "text/x-python",
   "name": "python",
   "nbconvert_exporter": "python",
   "pygments_lexer": "ipython3",
   "version": "3.6.3"
  }
 },
 "nbformat": 4,
 "nbformat_minor": 2
}
